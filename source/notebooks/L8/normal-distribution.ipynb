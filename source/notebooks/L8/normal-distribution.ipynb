{
 "cells": [
  {
   "cell_type": "markdown",
   "id": "962720aa-ea5c-449a-b1b4-22f2457c4ab3",
   "metadata": {},
   "source": [
    "# The normal distribution\n",
    "\n",
    "```{attention}\n",
    "Follow the lesson and fill your student notebooks using Binder.<br/>\n",
    "<a href=\"https://mybinder.org/v2/gh/jdaled/geo-python_UPD/dev-upd?urlpath=lab/tree/source/notebooks/L8/normal-distribution.ipynb\"><img alt=\"Binder badge\" src=\"https://img.shields.io/badge/launch-binder-red.svg\" style=\"vertical-align:text-bottom\"></a>\n",
    "```\n",
    "\n",
    "The {term}`normal distribution`, also known as the *Gaussian*, refers to the mathematical function used to describe the bell-shaped curve of expected values for any measurement subject to small random errors. Probably most of you have already seen this distribution before, and here we briefly outline its definition and use.\n",
    "\n",
    "![The normal distribution](img/Gaussian.png)\n",
    "\n",
    "_**Figure 1.5**. The normal distribution of cinder code slope angles. Source: Figure 7.1 from [McKillup and Dyar, 2010](http://www.cambridge.org/fi/academic/subjects/earth-and-environmental-science/earth-science-general-interest/geostatistics-explained-introductory-guide-earth-scientists?format=HB&isbn=9780521763226)._\n",
    "\n",
    "\n",
    "Many geological values can be described using the *normal distribution*, where the most common measured values are proximal to the *mean*, but small numbers of measurements may have values quite far from the mean. The example in Figure 1.5 is for the slope angles of cinder cones, which may be expected to be similar in many cases. This might relate to the angle of repose of the cinders that form the cone.\n",
    "\n",
    "![The normal distribution and standard deviations](img/Gaussian-sd.png)\n",
    "\n",
    "_**Figure 1.6**. The relationships between the normal distribution and standard deviation. Source: Figure 7.3 from [McKillup and Dyar, 2010](http://www.cambridge.org/fi/academic/subjects/earth-and-environmental-science/earth-science-general-interest/geostatistics-explained-introductory-guide-earth-scientists?format=HB&isbn=9780521763226)._\n",
    "\n",
    "\n",
    "Assuming we have a representative sample, the *standard deviation* can be related to the percentage of measurements that would be expected to fall within some distance from the *mean*. If the sample is representative, the sample mean $\\bar{x}$ and population mean $\\mu$ should be the same. In this case, ~68% of measurements should be within plus/minus one standard deviation of the mean, and ~95% should fall within plus/minus two standard deviations.\n",
    "\n",
    "You will learn more about the *normal distribution* in the exercise for this week.\n",
    "\n",
    "Below are example plots using the temperature data in Mactan airport."
   ]
  },
  {
   "cell_type": "code",
   "execution_count": 59,
   "id": "9928b891-6558-42eb-b726-bda146fdd1dc",
   "metadata": {},
   "outputs": [
    {
     "data": {
      "text/plain": [
       "<AxesSubplot:xlabel='TEMP', ylabel='Count'>"
      ]
     },
     "execution_count": 59,
     "metadata": {},
     "output_type": "execute_result"
    },
    {
     "data": {
      "image/png": "[encoded data removed]",
      "text/plain": [
       "<Figure size 432x288 with 1 Axes>"
      ]
     },
     "metadata": {
      "needs_background": "light"
     },
     "output_type": "display_data"
    }
   ],
   "source": [
    "import pandas as pd\n",
    "import matplotlib.pyplot as plt\n",
    "import seaborn as sns\n",
    "import numpy as np\n",
    "\n",
    "fp = r\"data/ph_tempdata.csv\"\n",
    "\n",
    "data = pd.read_csv(\n",
    "    fp,\n",
    "    na_values=[\"***\"],\n",
    "    usecols=[\"DATE\", \"STATION\", \"TEMP\", \"MAX\", \"MIN\"],\n",
    "    parse_dates=[\"DATE\"],\n",
    "    index_col=\"DATE\",\n",
    ")\n",
    "\n",
    "# convert temperatures from Farenheit to Celsius\n",
    "data[\"TEMP\"] = (data[\"TEMP\"] - 32)/1.8\n",
    "data[\"MAX\"] = (data[\"MAX\"] - 32)/1.8\n",
    "data[\"MIN\"] = (data[\"MIN\"] - 32)/1.8\n",
    "\n",
    "# get only the data from the Mactan airport using the station code\n",
    "data = data.loc[data[\"STATION\"] == \"RPM00098646\"]\n",
    "\n",
    "sns.histplot(data[\"TEMP\"])"
   ]
  },
  {
   "cell_type": "code",
   "execution_count": 60,
   "id": "92d247ca-c2f8-4292-85d9-f6ccdcb7f360",
   "metadata": {},
   "outputs": [
    {
     "data": {
      "text/plain": [
       "<matplotlib.lines.Line2D at 0x172950a1d88>"
      ]
     },
     "execution_count": 60,
     "metadata": {},
     "output_type": "execute_result"
    },
    {
     "data": {
      "image/png": "[encoded data removed]",
      "text/plain": [
       "<Figure size 432x288 with 1 Axes>"
      ]
     },
     "metadata": {
      "needs_background": "light"
     },
     "output_type": "display_data"
    }
   ],
   "source": [
    "data_Tmean = data[\"TEMP\"].mean(skipna=True)\n",
    "data_Tstd = data[\"TEMP\"].std()\n",
    "\n",
    "data_Tmode = data[\"TEMP\"].mode()\n",
    "\n",
    "sns.histplot(data[\"TEMP\"])\n",
    "plt.axvline(data_Tmean, color=\"k\", linestyle=\"--\")\n",
    "plt.axvline(data_Tmode[0], color=\"r\", linestyle=\"-\")\n",
    "\n",
    "# plotting the standard deviation and 2 times the standard deviation from the mean\n",
    "plt.axvline(data_Tmean - data_Tstd, color=\"k\", linestyle=\"--\")\n",
    "plt.axvline(data_Tmean + data_Tstd, color=\"k\", linestyle=\"--\")\n",
    "plt.axvline(data_Tmean - (2*data_Tstd), color=\"k\", linestyle=\":\")\n",
    "plt.axvline(data_Tmean + (2*data_Tstd), color=\"k\", linestyle=\":\")\n"
   ]
  },
  {
   "cell_type": "code",
   "execution_count": null,
   "id": "3907f08e-4414-4015-8736-0f7598a70363",
   "metadata": {},
   "outputs": [],
   "source": []
  }
 ],
 "metadata": {
  "kernelspec": {
   "display_name": "Python 3 (ipykernel)",
   "language": "python",
   "name": "python3"
  },
  "language_info": {
   "codemirror_mode": {
    "name": "ipython",
    "version": 3
   },
   "file_extension": ".py",
   "mimetype": "text/x-python",
   "name": "python",
   "nbconvert_exporter": "python",
   "pygments_lexer": "ipython3",
   "version": "3.7.11"
  }
 },
 "nbformat": 4,
 "nbformat_minor": 5
}
