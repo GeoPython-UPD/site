{
 "cells": [
  {
   "cell_type": "markdown",
   "id": "962720aa-ea5c-449a-b1b4-22f2457c4ab3",
   "metadata": {},
   "source": [
    "# The normal distribution\n",
    "\n",
    "```{attention}\n",
    "Enrolled students using DILNET may use the CS JupyterHub.<br/>\n",
    "<a href=\"http://jhub.science.upd.edu.ph/hub/user-redirect/git-pull?repo=https://github.com/GeoPython-UPD/notebooks&urlpath=lab/tree/notebooks/L8/normal-distribution.ipynb+&branch=main\"><img src=\"https://img.shields.io/badge/Launch-CS_Hub-blue\" alt=\"Launch - CS Hub\"></a>\n",
    "\n",
    "Follow the lesson and fill in your notebooks using Binder.<br/>\n",
    "<a href=\"https://mybinder.org/v2/gh/GeoPython-UPD/notebooks/main?labpath=L8/normal-distribution.ipynb\"><img alt=\"Binder badge\" src=\"https://img.shields.io/badge/launch-binder-red.svg\" style=\"vertical-align:text-bottom\"></a>\n",
    "```\n",
    "\n",
    "The {term}`normal distribution`, also known as the *Gaussian*, refers to the mathematical function used to describe the bell-shaped curve of expected values for any measurement subject to small random errors. Probably most of you have already seen this distribution before, and here we briefly outline its definition and use.\n",
    "\n",
    "![The normal distribution](img/Gaussian.png)\n",
    "\n",
    "_**Figure 1.5**. The normal distribution of cinder code slope angles. Source: Figure 7.1 from [McKillup and Dyar, 2010](http://www.cambridge.org/fi/academic/subjects/earth-and-environmental-science/earth-science-general-interest/geostatistics-explained-introductory-guide-earth-scientists?format=HB&isbn=9780521763226)._\n",
    "\n",
    "\n",
    "Many geological values can be described using the *normal distribution*, where the most common measured values are proximal to the *mean*, but small numbers of measurements may have values quite far from the mean. The example in Figure 1.5 is for the slope angles of cinder cones, which may be expected to be similar in many cases. This might relate to the angle of repose of the cinders that form the cone.\n",
    "\n",
    "![The normal distribution and standard deviations](img/Gaussian-sd.png)\n",
    "\n",
    "_**Figure 1.6**. The relationships between the normal distribution and standard deviation. Source: Figure 7.3 from [McKillup and Dyar, 2010](http://www.cambridge.org/fi/academic/subjects/earth-and-environmental-science/earth-science-general-interest/geostatistics-explained-introductory-guide-earth-scientists?format=HB&isbn=9780521763226)._\n",
    "\n",
    "\n",
    "Assuming we have a representative sample, the *standard deviation* can be related to the percentage of measurements that would be expected to fall within some distance from the *mean*. If the sample is representative, the sample mean $\\bar{x}$ and population mean $\\mu$ should be the same. In this case, ~68% of measurements should be within plus/minus one standard deviation of the mean, and ~95% should fall within plus/minus two standard deviations.\n",
    "\n",
    "You will learn more about the *normal distribution* in the exercise for this week.\n",
    "\n",
    "\n",
    "## Checking the distribution of data\n",
    "\n",
    "Let's load some data to see the temperature distribution in Mactan airport."
   ]
  },
  {
   "cell_type": "code",
   "execution_count": null,
   "id": "70157f1b-d7dc-424b-9ce3-adcc52785bc9",
   "metadata": {
    "tags": []
   },
   "outputs": [],
   "source": [
    "import pandas as pd\n",
    "import numpy as np\n",
    "\n",
    "fp = r\"data/ph_tempdata.csv\"\n",
    "\n",
    "data = pd.read_csv(\n",
    "    fp,\n",
    "    na_values=[\"***\"],\n",
    "    usecols=[\"DATE\", \"STATION\", \"TEMP\", \"MAX\", \"MIN\"],\n",
    "    parse_dates=[\"DATE\"],\n",
    "    index_col=\"DATE\",\n",
    ")\n",
    "\n",
    "# convert temperatures from Farenheit to Celsius\n",
    "data[\"TEMP\"] = (data[\"TEMP\"] - 32)/1.8\n",
    "data[\"MAX\"] = (data[\"MAX\"] - 32)/1.8\n",
    "data[\"MIN\"] = (data[\"MIN\"] - 32)/1.8\n",
    "\n",
    "# get only the data from the Mactan airport using the station code\n",
    "data = data.loc[data[\"STATION\"] == \"RPM00098646\"]"
   ]
  },
  {
   "cell_type": "markdown",
   "id": "c0a2ff12-d397-47f1-be1a-20358a8e00d8",
   "metadata": {},
   "source": [
    "How much data are we dealing with? Let's check!"
   ]
  },
  {
   "cell_type": "code",
   "execution_count": null,
   "id": "c9577256-d0fd-4ad8-bf89-fa1fd32b6341",
   "metadata": {
    "tags": []
   },
   "outputs": [],
   "source": [
    "len(data)"
   ]
  },
  {
   "cell_type": "markdown",
   "id": "f0820e16-5ad7-4531-b5f4-5ddaf4d26576",
   "metadata": {},
   "source": [
    "That's a lot of data to look one by one. Good thing, we can get an idea of the range of values with `data.describe()`, right?"
   ]
  },
  {
   "cell_type": "code",
   "execution_count": null,
   "id": "7e3f10b9-30e1-428f-b08e-bf76d691b841",
   "metadata": {
    "tags": []
   },
   "outputs": [],
   "source": [
    "data.describe()"
   ]
  },
  {
   "cell_type": "markdown",
   "id": "44fd965b-56bf-43ed-ac0b-c90f6a6f1454",
   "metadata": {},
   "source": [
    "But a more interesting way of understanding the distribution of temperatures probably comes in the form of a graph. Good thing we can plot [histograms](https://en.wikipedia.org/wiki/Histogram) with [matplotlib.pyplot.hist](https://matplotlib.org/stable/api/_as_gen/matplotlib.pyplot.hist.html)."
   ]
  },
  {
   "cell_type": "code",
   "execution_count": null,
   "id": "e3c2d51e-ebac-4ec3-be4e-9ce61fcc631e",
   "metadata": {
    "tags": []
   },
   "outputs": [],
   "source": [
    "import matplotlib.pyplot as plt\n",
    "\n",
    "# plot a histogram of the temperatures in MActan airport\n",
    "plt.hist(data[\"TEMP\"])"
   ]
  },
  {
   "cell_type": "markdown",
   "id": "1246534a-57a4-4d1f-a0a3-93677dfd61cd",
   "metadata": {},
   "source": [
    "## A taste of Seaborn\n",
    "\n",
    "[Seaborn](https://seaborn.pydata.org/) is a popular statistics visualization package that allows quick plotting of nice figures.  Here we use it to quickly plot a histogram."
   ]
  },
  {
   "cell_type": "code",
   "execution_count": null,
   "id": "878b935b-ee7c-411c-b10d-b6b5897d71ff",
   "metadata": {
    "tags": []
   },
   "outputs": [],
   "source": [
    "import seaborn as sns\n",
    "\n",
    "sns.histplot(data[\"TEMP\"])"
   ]
  },
  {
   "cell_type": "markdown",
   "id": "e3744f97-ea5b-4b9f-aa05-73125f282e04",
   "metadata": {
    "tags": []
   },
   "source": [
    "Let's annotate the mean and mode to see if they are the same or different."
   ]
  },
  {
   "cell_type": "code",
   "execution_count": null,
   "id": "92d247ca-c2f8-4292-85d9-f6ccdcb7f360",
   "metadata": {
    "tags": []
   },
   "outputs": [],
   "source": [
    "data_Tmean = data[\"TEMP\"].mean(skipna=True)\n",
    "data_Tmode = data[\"TEMP\"].mode()\n",
    "\n",
    "sns.histplot(data[\"TEMP\"])\n",
    "plt.axvline(data_Tmean, color=\"k\", linestyle=\"-\")\n",
    "plt.axvline(data_Tmode[0], color=\"r\", linestyle=\"--\")"
   ]
  },
  {
   "cell_type": "markdown",
   "id": "6d0436fd-770a-4e48-9fb9-e63ddd80bb89",
   "metadata": {},
   "source": [
    "To help visualize what the likely temperature range is 95% of the time, why not also annotate the 2-$\\sigma$?"
   ]
  },
  {
   "cell_type": "code",
   "execution_count": null,
   "id": "60fd23b1-da98-4329-8d17-2fbf83748ba3",
   "metadata": {
    "tags": []
   },
   "outputs": [],
   "source": [
    "data_Tmean = data[\"TEMP\"].mean(skipna=True)\n",
    "data_Tmode = data[\"TEMP\"].mode()\n",
    "\n",
    "sns.histplot(data[\"TEMP\"])\n",
    "plt.axvline(data_Tmean, color=\"k\", linestyle=\"--\")\n",
    "plt.axvline(data_Tmode[0], color=\"r\", linestyle=\"-\")\n",
    "\n",
    "# plotting the standard deviation and 2 times the standard deviation from the mean\n",
    "data_Tstd = data[\"TEMP\"].std()\n",
    "\n",
    "plt.axvline(data_Tmean - data_Tstd, color=\"k\", linestyle=\"--\")\n",
    "plt.axvline(data_Tmean + data_Tstd, color=\"k\", linestyle=\"--\")\n",
    "plt.axvline(data_Tmean - (2*data_Tstd), color=\"k\", linestyle=\":\")\n",
    "plt.axvline(data_Tmean + (2*data_Tstd), color=\"k\", linestyle=\":\")"
   ]
  },
  {
   "cell_type": "code",
   "execution_count": null,
   "id": "3907f08e-4414-4015-8736-0f7598a70363",
   "metadata": {},
   "outputs": [],
   "source": []
  }
 ],
 "metadata": {
  "kernelspec": {
   "display_name": "Python 3 (ipykernel)",
   "language": "python",
   "name": "python3"
  },
  "language_info": {
   "codemirror_mode": {
    "name": "ipython",
    "version": 3
   },
   "file_extension": ".py",
   "mimetype": "text/x-python",
   "name": "python",
   "nbconvert_exporter": "python",
   "pygments_lexer": "ipython3",
   "version": "3.10.6"
  }
 },
 "nbformat": 4,
 "nbformat_minor": 5
}
