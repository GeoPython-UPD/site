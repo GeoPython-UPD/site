{
 "cells": [
  {
   "cell_type": "markdown",
   "id": "08449a90-7974-47c3-844d-8a7e0ee592c8",
   "metadata": {
    "tags": []
   },
   "source": [
    "# Reporting measurements\n",
    "\n",
    "```{attention}\n",
    "Enrolled students using DILNET may use the CS JupyterHub.<br/>\n",
    "<a href=\"http://jhub.science.upd.edu.ph/hub/user-redirect/git-pull?repo=https://github.com/GeoPython-UPD/notebooks&urlpath=lab/tree/notebooks/L8/reporting-measurements.ipynb+&branch=main\"><img src=\"https://img.shields.io/badge/Launch-CS_Hub-blue\" alt=\"Launch - CS Hub\"></a>\n",
    "\n",
    "Follow the lesson and fill in your notebooks using Binder.<br/>\n",
    "<a href=\"https://mybinder.org/v2/gh/GeoPython-UPD/notebooks/main?labpath=L8/reporting-measurements.ipynb\"><img alt=\"Binder badge\" src=\"https://img.shields.io/badge/launch-binder-red.svg\" style=\"vertical-align:text-bottom\"></a>\n",
    "```\n",
    "\n",
    "How best to report a measured value may vary considerably depending on who you ask, their scientific field, and many other factors. Here, we'll keep it simply and present how measured values should be reported in general, and how to calculate various important related values.\n",
    "\n",
    "## Reporting a measured value\n",
    "\n",
    "In general, measured values should be reported as the best estimate of the true value plus/minus the uncertainty in the measurement. Mathematically, this means we should state\n",
    "\n",
    "$$\n",
    "\\large\n",
    "x_{\\mathrm{best}} \\pm \\delta x.\n",
    "$$\n",
    "\n",
    "which is the general form for reporting a measurement where $x_{\\mathrm{best}}$ is the best estimate of the true value and $\\delta x$ is the uncertainty.\n",
    "\n",
    "For a given set of measurements, a common estimate of the true value is to take the *average* or *mean* value of the set of measurements. The *mean* is simply the sum of the measured values divided by the number of measurements. We can calculate the mean $\\bar{x}$ as\n",
    "\n",
    "$$\n",
    "\\large\n",
    "\\bar{x} = \\frac{\\sum x_{i}}{N}\n",
    "$$\n",
    "\n",
    "which is the mean value of a set of $N$ measurements, $x_{i}$. If you are unfamiliar with sigma notation, you may want to check out the {doc}`hints for this week's exercise <../../lessons/L8/exercise-8>`.\n",
    "\n",
    "Below, let's try to calculate the mean of January 2017 temperatures, in degrees Celsius, in the Mactan Airport.  First we process and clean up the data"
   ]
  },
  {
   "cell_type": "code",
   "execution_count": null,
   "id": "bcee6ac9-dcb4-49c9-a4a3-53e50b8b1949",
   "metadata": {
    "tags": []
   },
   "outputs": [],
   "source": [
    "import pandas as pd\n",
    "\n",
    "fp = r\"data/ph_tempdata.csv\"\n",
    "\n",
    "data = pd.read_csv(\n",
    "    fp,\n",
    "    na_values=[\"***\"],\n",
    "    usecols=[\"DATE\", \"STATION\", \"TEMP\", \"MAX\", \"MIN\"],\n",
    "    parse_dates=[\"DATE\"],\n",
    "    index_col=\"DATE\",\n",
    ")\n",
    "\n",
    "# convert temperatures from Farenheit to Celsius\n",
    "data[\"TEMP\"] = (data[\"TEMP\"] - 32)/1.8\n",
    "data[\"MAX\"] = (data[\"MAX\"] - 32)/1.8\n",
    "data[\"MIN\"] = (data[\"MIN\"] - 32)/1.8\n",
    "\n",
    "data = data.loc[data[\"STATION\"] == \"RPM00098646\"]\n",
    "\n",
    "jan2017_temps = data[\"TEMP\"].loc[data.index <= \"2017-01-31\"]"
   ]
  },
  {
   "cell_type": "markdown",
   "id": "ab016691-f020-483b-abd2-1787ffcfd831",
   "metadata": {},
   "source": [
    "Then we can get the mean pretty easily using the mean function built into pandas objects."
   ]
  },
  {
   "cell_type": "code",
   "execution_count": null,
   "id": "d2dbe0e9-252d-4764-9c70-525311cbbc89",
   "metadata": {
    "tags": []
   },
   "outputs": [],
   "source": [
    "jan2017_Tmean = jan2017_temps.mean()\n",
    "print(f'The mean temperature in Jan 2017 is {jan2017_Tmean:.2f} degrees Celsius.')"
   ]
  },
  {
   "cell_type": "markdown",
   "id": "766540cc-4fa0-4dec-b184-55e30c338512",
   "metadata": {},
   "source": [
    "How much each measurement differs from the mean can be found by determining the *deviation* or *residual* of each measurement. The *deviation* $d_{i}$ for a given measurement is simply the signed difference between the measured and mean values, or\n",
    "\n",
    "$$\n",
    "\\large\n",
    "d_{i} = x_{i} - \\bar{x}.\n",
    "$$\n",
    "\n",
    "A small *deviation* indicates precise measurments. Given the calculation for the *mean*, it might be tempting to estimate the deviation for $N$ measurements by calculating its average. The problem is that the average deviation is exactly zero, so another estimate is needed. The *standard deviation* $\\sigma_{x}$ is simply the square root of the sum of the deviations squared and divided by the number of measurements, or\n",
    "\n",
    "$$\n",
    "\\large\n",
    "\\sigma_{x} = \\sqrt{\\frac{1}{N} \\sum \\left(x_{i} - \\bar{x} \\right)^{2}}.\n",
    "$$\n",
    "\n",
    "The *standard deviation* provides a good estimate of how much a given measurement might be expected to differ from the *mean*. One issue with the equation listed above is that it does not work well in the extreme case of a single measurement. In that case, the calculated standard deviation is exactly zero, suggesting we have no uncertainty for a single measurement. As a result, the alternative form of the standard deviation given below is often used,\n",
    "\n",
    "$$\n",
    "\\large\n",
    "\\sigma_{x} = \\sqrt{\\frac{1}{N-1} \\sum \\left(x_{i} - \\bar{x} \\right)^{2}}.\n",
    "$$\n",
    "\n",
    "In this version of the standard deviation equation, the standard deviation is undefined for a single measurement (due to dividing by zero).\n",
    "\n",
    "Let's get the standard deviation using the .std() function"
   ]
  },
  {
   "cell_type": "code",
   "execution_count": null,
   "id": "d61ea8c4-e7c1-4334-89c8-8d828b7c898e",
   "metadata": {
    "tags": []
   },
   "outputs": [],
   "source": [
    "jan2017_Tstd = jan2017_temps.std()\n",
    "\n",
    "print(f'The temperature standard deviation in Jan 2017 is {jan2017_Tstd:.2f} degrees Celsius.')"
   ]
  },
  {
   "cell_type": "markdown",
   "id": "cdaa5186-0a78-4297-9514-fbcb280ed02f",
   "metadata": {},
   "source": [
    "An alternative measure of uncertainty that is sometimes used is the *standard deviation of the mean* or *standard error*. The *standard error* $\\sigma_{\\bar{x}}$ is simply the standard deviation divided by the square root of the number of samples.\n",
    "\n",
    "$$\n",
    "\\large\n",
    "\\sigma_{\\bar{x}} = \\frac{\\sigma_{x}}{\\sqrt{N}}.\n",
    "$$\n",
    "\n",
    "As you can see, the standard error will decrease as the number of samples $N$ increases."
   ]
  },
  {
   "cell_type": "code",
   "execution_count": null,
   "id": "4b8117c2-f31d-47ab-9b73-f53960e4151f",
   "metadata": {},
   "outputs": [],
   "source": [
    "jan2017_Tsem = jan2017_temps.sem(ddof=0)\n",
    "\n",
    "print(f'The temperature standard error in Jan 2017 is {jan2017_Tsem:.2f} degrees Celsius.')"
   ]
  },
  {
   "cell_type": "markdown",
   "id": "88e2d7fb-9a74-48ad-a55d-e254de3c53ad",
   "metadata": {},
   "source": [
    "## Standard deviation versus standard error\n",
    "\n",
    "So, these two things both can be used to represent uncertainty in a measurement, but how do they differ? The *standard deviation* measures how widely scattered measurements are from the *mean*. The *standard error* measures the uncertainty in the estimate of the *mean*.\n",
    "\n",
    "In general, it is preferable to report the *standard error*, but with two such similar terms it is important **no matter what** to be clear whether you are reporting the standard deviation or standard error.\n",
    "\n",
    "You might also find [this explanation](https://www.reddit.com/r/explainlikeimfive/comments/1ol505/comment/cct11rm/?utm_source=share&utm_medium=web3x&utm_name=web3xcss&utm_term=1&utm_content=share_button) from a comment on Reddit helpful in distinguishing the difference between standard deviation and standard error."
   ]
  },
  {
   "cell_type": "code",
   "execution_count": null,
   "id": "28cd664d-0f6d-43c9-9092-98b0dfa79663",
   "metadata": {},
   "outputs": [],
   "source": []
  }
 ],
 "metadata": {
  "kernelspec": {
   "display_name": "Python 3 (ipykernel)",
   "language": "python",
   "name": "python3"
  },
  "language_info": {
   "codemirror_mode": {
    "name": "ipython",
    "version": 3
   },
   "file_extension": ".py",
   "mimetype": "text/x-python",
   "name": "python",
   "nbconvert_exporter": "python",
   "pygments_lexer": "ipython3",
   "version": "3.10.6"
  }
 },
 "nbformat": 4,
 "nbformat_minor": 5
}
