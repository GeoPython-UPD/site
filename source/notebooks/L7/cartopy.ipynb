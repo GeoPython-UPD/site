{
 "cells": [
  {
   "cell_type": "markdown",
   "metadata": {},
   "source": [
    "# Plotting maps with Cartopy\n",
    "\n",
    "```{attention}\n",
    "Student can access the notebooks and data through Google Drive and run it on Google Colab.  Email or message JD Dianala for access. <br/>\n",
    "<a href=\"https://drive.google.com/drive/u/0/folders/1mF5wTSlC86uoCmYEiQpP3VGg2P9pA8S-\">Open Google Drive</a>\n",
    "```\n",
    "\n",
    "At this point you should know the basics of making plots with pandas and the Matplotlib module.  The notebook above will guide you through some basic code for plotting maps with Cartopy.\n"
   ]
  },
  {
   "cell_type": "code",
   "execution_count": null,
   "metadata": {},
   "outputs": [],
   "source": []
  }
 ],
 "metadata": {
  "kernelspec": {
   "display_name": "Python 3 (ipykernel)",
   "language": "python",
   "name": "python3"
  },
  "language_info": {
   "codemirror_mode": {
    "name": "ipython",
    "version": 3
   },
   "file_extension": ".py",
   "mimetype": "text/x-python",
   "name": "python",
   "nbconvert_exporter": "python",
   "pygments_lexer": "ipython3",
   "version": "3.10.6"
  }
 },
 "nbformat": 4,
 "nbformat_minor": 4
}
